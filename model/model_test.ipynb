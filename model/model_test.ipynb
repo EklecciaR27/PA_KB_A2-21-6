{
 "cells": [
  {
   "cell_type": "code",
   "execution_count": 1,
   "metadata": {},
   "outputs": [],
   "source": [
    "from keras.models import Sequential, model_from_json\n",
    "from keras_preprocessing.image import ImageDataGenerator"
   ]
  },
  {
   "cell_type": "code",
   "execution_count": 2,
   "metadata": {},
   "outputs": [
    {
     "name": "stdout",
     "output_type": "stream",
     "text": [
      "Model: \"bottlePredicter\"\n",
      "_________________________________________________________________\n",
      " Layer (type)                Output Shape              Param #   \n",
      "=================================================================\n",
      " conv2d_15 (Conv2D)          (None, 126, 126, 256)     2560      \n",
      "                                                                 \n",
      " max_pooling2d_15 (MaxPoolin  (None, 63, 63, 256)      0         \n",
      " g2D)                                                            \n",
      "                                                                 \n",
      " conv2d_16 (Conv2D)          (None, 61, 61, 128)       295040    \n",
      "                                                                 \n",
      " max_pooling2d_16 (MaxPoolin  (None, 30, 30, 128)      0         \n",
      " g2D)                                                            \n",
      "                                                                 \n",
      " conv2d_17 (Conv2D)          (None, 28, 28, 64)        73792     \n",
      "                                                                 \n",
      " max_pooling2d_17 (MaxPoolin  (None, 14, 14, 64)       0         \n",
      " g2D)                                                            \n",
      "                                                                 \n",
      " conv2d_18 (Conv2D)          (None, 12, 12, 16)        9232      \n",
      "                                                                 \n",
      " max_pooling2d_18 (MaxPoolin  (None, 6, 6, 16)         0         \n",
      " g2D)                                                            \n",
      "                                                                 \n",
      " conv2d_19 (Conv2D)          (None, 4, 4, 8)           1160      \n",
      "                                                                 \n",
      " max_pooling2d_19 (MaxPoolin  (None, 2, 2, 8)          0         \n",
      " g2D)                                                            \n",
      "                                                                 \n",
      " flatten_3 (Flatten)         (None, 32)                0         \n",
      "                                                                 \n",
      " dense_6 (Dense)             (None, 32)                1056      \n",
      "                                                                 \n",
      " dense_7 (Dense)             (None, 5)                 165       \n",
      "                                                                 \n",
      "=================================================================\n",
      "Total params: 383,005\n",
      "Trainable params: 383,005\n",
      "Non-trainable params: 0\n",
      "_________________________________________________________________\n"
     ]
    }
   ],
   "source": [
    "#Load trainned model\n",
    "json_file = open(\n",
    "    \"bottle_predicter_model.json\", \n",
    "    \"r\"\n",
    ")\n",
    "loaded_model_json = json_file.read()\n",
    "json_file.close()\n",
    "\n",
    "#Convert JSON to Keras Model\n",
    "model = model_from_json(loaded_model_json)\n",
    "model.load_weights(\"bottle_predicter_weights.h5\")\n",
    "model.compile(\n",
    "    'adam',\n",
    "    'categorical_crossentropy',\n",
    "    ['accuracy']\n",
    ")\n",
    "\n",
    "model.summary()"
   ]
  },
  {
   "cell_type": "code",
   "execution_count": 5,
   "metadata": {},
   "outputs": [
    {
     "name": "stdout",
     "output_type": "stream",
     "text": [
      "Found 100 images belonging to 5 classes.\n"
     ]
    }
   ],
   "source": [
    "test_p = \"../bottle/split/test/\"\n",
    "\n",
    "img_datagen = ImageDataGenerator(\n",
    "    rescale = 1./255\n",
    ")\n",
    "\n",
    "test = img_datagen.flow_from_directory(\n",
    "    test_p,\n",
    "    target_size = (128, 128),\n",
    "    color_mode = 'grayscale',\n",
    "    shuffle = True,\n",
    "    class_mode = 'categorical',\n",
    "    batch_size = 64\n",
    ")"
   ]
  },
  {
   "cell_type": "code",
   "execution_count": 6,
   "metadata": {},
   "outputs": [
    {
     "name": "stdout",
     "output_type": "stream",
     "text": [
      "2/2 [==============================] - 4s 1s/step - loss: 0.5150 - accuracy: 0.9200\n",
      "LOSS :  0.5149849057197571\n",
      "AKURASI : 92.00%\n"
     ]
    }
   ],
   "source": [
    "#Evaluate\n",
    "score = model.evaluate(test)\n",
    "print(\"LOSS : \", score[0])\n",
    "print(\"AKURASI : %.2f%%\" % (score[1]*100))"
   ]
  }
 ],
 "metadata": {
  "kernelspec": {
   "display_name": "tito_042",
   "language": "python",
   "name": "tito_042"
  },
  "language_info": {
   "codemirror_mode": {
    "name": "ipython",
    "version": 3
   },
   "file_extension": ".py",
   "mimetype": "text/x-python",
   "name": "python",
   "nbconvert_exporter": "python",
   "pygments_lexer": "ipython3",
   "version": "3.10.7"
  },
  "orig_nbformat": 4
 },
 "nbformat": 4,
 "nbformat_minor": 2
}
